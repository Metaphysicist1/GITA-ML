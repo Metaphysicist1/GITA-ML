{
 "cells": [
  {
   "cell_type": "code",
   "execution_count": 106,
   "id": "f7fea64e-22cb-453e-92d7-f11da67de78c",
   "metadata": {},
   "outputs": [],
   "source": [
    "class Vehicle:\n",
    "\n",
    "    def __init__(self, brand, model):\n",
    "        self.brand = brand\n",
    "        self.model = model\n",
    "\n",
    "    def get_full_name(self):\n",
    "        return f\"{self.brand} {self.model}\"\n",
    "\n",
    "    @classmethod\n",
    "    def from_string(cls, vehicle_string):\n",
    "        brand, model = vehicle_string.split(\"-\")\n",
    "        return cls(brand, model)\n",
    "\n",
    "    @staticmethod\n",
    "    def is_motorized():\n",
    "        return True"
   ]
  },
  {
   "cell_type": "code",
   "execution_count": 107,
   "id": "fe2f6aea-4cb7-43d9-8524-9fc6455367dc",
   "metadata": {},
   "outputs": [],
   "source": [
    "v = Vehicle(\"a\", \"b\")"
   ]
  },
  {
   "cell_type": "code",
   "execution_count": 109,
   "id": "ebd7d14b-d7ba-445d-a1ce-b9cc9e40b9df",
   "metadata": {},
   "outputs": [
    {
     "data": {
      "text/plain": [
       "'a b'"
      ]
     },
     "execution_count": 109,
     "metadata": {},
     "output_type": "execute_result"
    }
   ],
   "source": [
    "v.get_full_name()"
   ]
  },
  {
   "cell_type": "code",
   "execution_count": 110,
   "id": "8ac1b85e-b108-4938-ac06-c17cda87e98a",
   "metadata": {},
   "outputs": [],
   "source": [
    "car_name = \"Subaru-Impreza\""
   ]
  },
  {
   "cell_type": "code",
   "execution_count": 111,
   "id": "6e6db32a-6493-4a4c-9e37-406815f796f3",
   "metadata": {},
   "outputs": [],
   "source": [
    "impreza = Vehicle.from_string(car_name)"
   ]
  },
  {
   "cell_type": "code",
   "execution_count": 112,
   "id": "369ee286-99e0-4dfc-965a-52c2cc3386aa",
   "metadata": {},
   "outputs": [
    {
     "data": {
      "text/plain": [
       "'Subaru Impreza'"
      ]
     },
     "execution_count": 112,
     "metadata": {},
     "output_type": "execute_result"
    }
   ],
   "source": [
    "impreza.get_full_name()"
   ]
  },
  {
   "cell_type": "code",
   "execution_count": 113,
   "id": "f3d2900d-0bc7-4532-aa1a-8184949183d7",
   "metadata": {},
   "outputs": [],
   "source": [
    "class Car(Vehicle):\n",
    "    def __init__(self, brand, model, num_doors):\n",
    "        super().__init__(brand, model)\n",
    "        self.num_doors = num_doors\n",
    "\n",
    "    def get_full_name(self):\n",
    "        return f\"{self.brand} {self.model} {self.num_doors}\"\n",
    "    "
   ]
  },
  {
   "cell_type": "code",
   "execution_count": 114,
   "id": "3d2cd3f2-9b8f-4326-9796-106091de7f42",
   "metadata": {},
   "outputs": [],
   "source": [
    "car = Car(\"Subaru\", \"Impreza\", 4)"
   ]
  },
  {
   "cell_type": "code",
   "execution_count": 115,
   "id": "f3403a88-cb6f-4199-bb99-8f4dcad9ca35",
   "metadata": {},
   "outputs": [
    {
     "data": {
      "text/plain": [
       "'Subaru Impreza 4'"
      ]
     },
     "execution_count": 115,
     "metadata": {},
     "output_type": "execute_result"
    }
   ],
   "source": [
    "car.get_full_name()"
   ]
  },
  {
   "cell_type": "code",
   "execution_count": null,
   "id": "2c4a61ab-9cc6-4209-89f6-740bb57ee53c",
   "metadata": {},
   "outputs": [],
   "source": []
  },
  {
   "cell_type": "code",
   "execution_count": null,
   "id": "99d07eba-47f1-4865-9c15-90a9882930ef",
   "metadata": {},
   "outputs": [],
   "source": []
  },
  {
   "cell_type": "markdown",
   "id": "01ad6fb4-4abd-4a8d-98d6-ce1988a9bd09",
   "metadata": {
    "jp-MarkdownHeadingCollapsed": true
   },
   "source": [
    "# Installations"
   ]
  },
  {
   "cell_type": "code",
   "execution_count": 116,
   "id": "d144e40c-8748-46d1-89d7-25db0f4be602",
   "metadata": {
    "scrolled": true
   },
   "outputs": [
    {
     "name": "stdout",
     "output_type": "stream",
     "text": [
      "Collecting openai\n",
      "  Downloading openai-1.58.1-py3-none-any.whl.metadata (27 kB)\n",
      "Requirement already satisfied: anyio<5,>=3.5.0 in /opt/anaconda3/envs/seminar1/lib/python3.11/site-packages (from openai) (4.7.0)\n",
      "Collecting distro<2,>=1.7.0 (from openai)\n",
      "  Using cached distro-1.9.0-py3-none-any.whl.metadata (6.8 kB)\n",
      "Requirement already satisfied: httpx<1,>=0.23.0 in /opt/anaconda3/envs/seminar1/lib/python3.11/site-packages (from openai) (0.28.1)\n",
      "Collecting jiter<1,>=0.4.0 (from openai)\n",
      "  Downloading jiter-0.8.2-cp311-cp311-macosx_11_0_arm64.whl.metadata (5.2 kB)\n",
      "Collecting pydantic<3,>=1.9.0 (from openai)\n",
      "  Downloading pydantic-2.10.4-py3-none-any.whl.metadata (29 kB)\n",
      "Requirement already satisfied: sniffio in /opt/anaconda3/envs/seminar1/lib/python3.11/site-packages (from openai) (1.3.1)\n",
      "Collecting tqdm>4 (from openai)\n",
      "  Downloading tqdm-4.67.1-py3-none-any.whl.metadata (57 kB)\n",
      "Requirement already satisfied: typing-extensions<5,>=4.11 in /opt/anaconda3/envs/seminar1/lib/python3.11/site-packages (from openai) (4.12.2)\n",
      "Requirement already satisfied: idna>=2.8 in /opt/anaconda3/envs/seminar1/lib/python3.11/site-packages (from anyio<5,>=3.5.0->openai) (3.10)\n",
      "Requirement already satisfied: certifi in /opt/anaconda3/envs/seminar1/lib/python3.11/site-packages (from httpx<1,>=0.23.0->openai) (2024.12.14)\n",
      "Requirement already satisfied: httpcore==1.* in /opt/anaconda3/envs/seminar1/lib/python3.11/site-packages (from httpx<1,>=0.23.0->openai) (1.0.7)\n",
      "Requirement already satisfied: h11<0.15,>=0.13 in /opt/anaconda3/envs/seminar1/lib/python3.11/site-packages (from httpcore==1.*->httpx<1,>=0.23.0->openai) (0.14.0)\n",
      "Collecting annotated-types>=0.6.0 (from pydantic<3,>=1.9.0->openai)\n",
      "  Using cached annotated_types-0.7.0-py3-none-any.whl.metadata (15 kB)\n",
      "Collecting pydantic-core==2.27.2 (from pydantic<3,>=1.9.0->openai)\n",
      "  Downloading pydantic_core-2.27.2-cp311-cp311-macosx_11_0_arm64.whl.metadata (6.6 kB)\n",
      "Downloading openai-1.58.1-py3-none-any.whl (454 kB)\n",
      "Using cached distro-1.9.0-py3-none-any.whl (20 kB)\n",
      "Downloading jiter-0.8.2-cp311-cp311-macosx_11_0_arm64.whl (311 kB)\n",
      "Downloading pydantic-2.10.4-py3-none-any.whl (431 kB)\n",
      "Downloading pydantic_core-2.27.2-cp311-cp311-macosx_11_0_arm64.whl (1.8 MB)\n",
      "\u001b[2K   \u001b[90m━━━━━━━━━━━━━━━━━━━━━━━━━━━━━━━━━━━━━━━━\u001b[0m \u001b[32m1.8/1.8 MB\u001b[0m \u001b[31m1.6 MB/s\u001b[0m eta \u001b[36m0:00:00\u001b[0ma \u001b[36m0:00:01\u001b[0m\n",
      "Downloading tqdm-4.67.1-py3-none-any.whl (78 kB)\n",
      "Using cached annotated_types-0.7.0-py3-none-any.whl (13 kB)\n",
      "Installing collected packages: tqdm, pydantic-core, jiter, distro, annotated-types, pydantic, openai\n",
      "Successfully installed annotated-types-0.7.0 distro-1.9.0 jiter-0.8.2 openai-1.58.1 pydantic-2.10.4 pydantic-core-2.27.2 tqdm-4.67.1\n"
     ]
    }
   ],
   "source": [
    "!pip install openai"
   ]
  },
  {
   "cell_type": "markdown",
   "id": "562822ba-1049-4c44-a585-326ccc700258",
   "metadata": {},
   "source": [
    "# Imports"
   ]
  },
  {
   "cell_type": "code",
   "execution_count": 117,
   "id": "ba9ab6c6-cc39-4f35-8a19-d1a00b89d2bd",
   "metadata": {},
   "outputs": [],
   "source": [
    "import json\n",
    "from openai import OpenAI"
   ]
  },
  {
   "cell_type": "markdown",
   "id": "1c9320fa-1c0e-450e-87f5-52fd52b7bda6",
   "metadata": {},
   "source": [
    "# Path"
   ]
  },
  {
   "cell_type": "code",
   "execution_count": 118,
   "id": "c3319050-bd04-490f-8916-d1945eb249a9",
   "metadata": {},
   "outputs": [],
   "source": [
    "config_file_path = 'config.json'"
   ]
  },
  {
   "cell_type": "markdown",
   "id": "c05ce43c-365c-4bc6-bda9-bd05ea589969",
   "metadata": {},
   "source": [
    "# Loading Credentials"
   ]
  },
  {
   "cell_type": "code",
   "execution_count": 119,
   "id": "ce2bb631-c28b-429b-84a7-b80919424f99",
   "metadata": {},
   "outputs": [],
   "source": [
    "with open(config_file_path, 'r') as f:\n",
    "    config = json.load(f)"
   ]
  },
  {
   "cell_type": "markdown",
   "id": "7f68e97c-0bff-4c46-9e0f-92ae67ca97b5",
   "metadata": {},
   "source": [
    "# Initialize OpenAI Client"
   ]
  },
  {
   "cell_type": "code",
   "execution_count": 120,
   "id": "6f9f5b47-a092-4ffa-971c-068e805935e0",
   "metadata": {},
   "outputs": [
    {
     "data": {
      "text/plain": [
       "dict_keys(['openai_key'])"
      ]
     },
     "execution_count": 120,
     "metadata": {},
     "output_type": "execute_result"
    }
   ],
   "source": [
    "config.keys()"
   ]
  },
  {
   "cell_type": "code",
   "execution_count": 121,
   "id": "66c98fb3-f0b7-4c86-8e69-128b3e2f9db4",
   "metadata": {},
   "outputs": [],
   "source": [
    "client = OpenAI(api_key=config['openai_key'])"
   ]
  },
  {
   "cell_type": "code",
   "execution_count": 122,
   "id": "7ad396d8-cc2a-423b-a022-c327a7d0ce90",
   "metadata": {},
   "outputs": [],
   "source": [
    "completion = client.chat.completions.create(\n",
    "    model = \"gpt-3.5-turbo\",\n",
    "    messages = [\n",
    "        {\n",
    "            \"role\" : \"user\",\n",
    "            \"content\" : \"Hello GPT\"\n",
    "        }\n",
    "    ]\n",
    ")"
   ]
  },
  {
   "cell_type": "code",
   "execution_count": 126,
   "id": "afd71a7f-99c2-4f15-8c9d-61cdea433964",
   "metadata": {},
   "outputs": [
    {
     "data": {
      "text/plain": [
       "'Hello! How can I assist you today?'"
      ]
     },
     "execution_count": 126,
     "metadata": {},
     "output_type": "execute_result"
    }
   ],
   "source": [
    "completion.choices[0].message.content"
   ]
  }
 ],
 "metadata": {
  "kernelspec": {
   "display_name": "Python 3 (ipykernel)",
   "language": "python",
   "name": "python3"
  },
  "language_info": {
   "codemirror_mode": {
    "name": "ipython",
    "version": 3
   },
   "file_extension": ".py",
   "mimetype": "text/x-python",
   "name": "python",
   "nbconvert_exporter": "python",
   "pygments_lexer": "ipython3",
   "version": "3.11.11"
  }
 },
 "nbformat": 4,
 "nbformat_minor": 5
}
